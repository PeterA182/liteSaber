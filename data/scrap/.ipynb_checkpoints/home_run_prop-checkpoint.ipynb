{
 "cells": [
  {
   "cell_type": "code",
   "execution_count": 16,
   "metadata": {},
   "outputs": [
    {
     "name": "stderr",
     "output_type": "stream",
     "text": [
      "/anaconda2/envs/litesaber_jupyter/lib/python3.6/site-packages/ipykernel_launcher.py:9: YAMLLoadWarning: calling yaml.load() without Loader=... is deprecated, as the default Loader is unsafe. Please read https://msg.pyyaml.org/load for full details.\n",
      "  if __name__ == '__main__':\n"
     ]
    }
   ],
   "source": [
    "import os\n",
    "import sys\n",
    "import numpy as np\n",
    "import pandas as pd\n",
    "import datetime as dt\n",
    "import utilities as util\n",
    "import yaml\n",
    "with open(\"/Users/peteraltamura/Documents/GitHub/liteSaber/data/configuration.yaml\", \"rb\") as c:\n",
    "    CONFIG = yaml.load(c)\n",
    "pd.options.display.max_columns = None"
   ]
  },
  {
   "cell_type": "code",
   "execution_count": 20,
   "metadata": {},
   "outputs": [
    {
     "name": "stdout",
     "output_type": "stream",
     "text": [
      "2019_09_18\n"
     ]
    }
   ],
   "source": [
    "# Parameters\n",
    "dd = dt.datetime.now().strftime(\"%Y_%m_%d\")\n",
    "print(dd)"
   ]
  },
  {
   "cell_type": "markdown",
   "metadata": {},
   "source": [
    "# Assumptions\n",
    "- We will calculate this for top 50 batters every day\n",
    "- We have the starters for today\n",
    "\n",
    "# Stats Sets We Need\n",
    "- batter recent performance\n",
    "    - batter_saber_team.parquet\n",
    "- batter performance against pitcher\n",
    "    - innings.parquet\n",
    "- batter performance against opponent bullpen\n",
    "    - innings.parquet\n",
    "- starter recent performance\n",
    "    - pitcher_saber_team.parquet\n",
    "- starter avg innings per game\n",
    "    - pitcher_saber_team.parquet\n",
    "    - innings.parquet\n",
    "    - pitching.parquet"
   ]
  },
  {
   "cell_type": "markdown",
   "metadata": {},
   "source": [
    "# Better Recent Performance"
   ]
  },
  {
   "cell_type": "code",
   "execution_count": 32,
   "metadata": {},
   "outputs": [],
   "source": [
    "path = CONFIG.get('paths').get('batter_saber')\n",
    "dd_list = [p for p in os.listdir(path) if dd in p]\n",
    "df_br = pd.concat(\n",
    "    objs=[pd.read_parquet(path+\"{}/\".format(dd)+'batter_saber_team.parquet') for dd in dd_list],\n",
    "    axis=0\n",
    ")"
   ]
  },
  {
   "cell_type": "code",
   "execution_count": 33,
   "metadata": {},
   "outputs": [],
   "source": [
    "df_br['flag'] = pd.isnull(df_br).any(axis=1)\n",
    "df_br = df_batter_recent.loc[df_batter_recent['flag'] == False, :]"
   ]
  },
  {
   "cell_type": "markdown",
   "metadata": {},
   "source": [
    "# Batter Performance Against Pitcher This Year"
   ]
  },
  {
   "cell_type": "code",
   "execution_count": 69,
   "metadata": {},
   "outputs": [
    {
     "name": "stdout",
     "output_type": "stream",
     "text": [
      "(976495, 84)\n"
     ]
    }
   ],
   "source": [
    "path = CONFIG.get('paths').get('normalized')\n",
    "years = [x.split(\"_\")[1][:4] for x in os.listdir(path)]\n",
    "years = list(set(years))\n",
    "df_inning_at = []\n",
    "for yr in years:\n",
    "    dd_list = [x for x in os.listdir(path) if yr in x]\n",
    "    df_bm_all = pd.concat(\n",
    "        objs=[pd.read_parquet(path+\"{}/\".format(dd)+'innings.parquet') for dd in dd_list \n",
    "              if \"innings.parquet\" in os.listdir(path+\"{}/\".format(dd))],\n",
    "        axis=0\n",
    "    )\n",
    "    cols = ['atbat_batter', 'atbat_event', 'atbat_event_num', 'atbat_pitcher', 'game_id', 'game_date']\n",
    "    df_bm_all = df_bm_all.loc[:, cols]\n",
    "    df_bm_all['year'] = yr\n",
    "    df_bm_all = df_bm_all.drop_duplicates(inplace=False)\n",
    "    df_inning_at.append(df_bm_all)\n",
    "df_bm_all = pd.concat(df_inning_at, axis=0)\n",
    "print(df_bm_all.shape)"
   ]
  },
  {
   "cell_type": "code",
   "execution_count": 71,
   "metadata": {},
   "outputs": [
    {
     "name": "stderr",
     "output_type": "stream",
     "text": [
      "/anaconda2/envs/litesaber_jupyter/lib/python3.6/site-packages/ipykernel_launcher.py:2: FutureWarning: \n",
      "Passing list-likes to .loc or [] with any missing label will raise\n",
      "KeyError in the future, you can use .reindex() as an alternative.\n",
      "\n",
      "See the documentation here:\n",
      "http://pandas.pydata.org/pandas-docs/stable/indexing.html#deprecate-loc-reindex-listlike\n",
      "  \n",
      "/anaconda2/envs/litesaber_jupyter/lib/python3.6/site-packages/pandas/core/indexing.py:1367: FutureWarning: \n",
      "Passing list-likes to .loc or [] with any missing label will raise\n",
      "KeyError in the future, you can use .reindex() as an alternative.\n",
      "\n",
      "See the documentation here:\n",
      "http://pandas.pydata.org/pandas-docs/stable/indexing.html#deprecate-loc-reindex-listlike\n",
      "  return self._getitem_tuple(key)\n"
     ]
    },
    {
     "name": "stdout",
     "output_type": "stream",
     "text": [
      "(190546, 6)\n"
     ]
    }
   ],
   "source": [
    "cols = ['atbat_batter', 'atbat_event', 'atbat_event_num', 'atbat_pitcher', 'game_id', 'game_date']\n",
    "df_bm = df_bm_all.loc[df_bm_all['year'] == max(df_bm_all['year']), :]\n",
    "df_bm = df_bm.loc[:, cols]\n",
    "df_bm = df_bm.drop_duplicates(inplace=False)\n",
    "print(df_bm[cols].shape)\n",
    "df_bm.loc[:, 'hr_flag'] = df_bm.atbat_event.str.replace(\" \", \"\").str.lower().str.contains('homerun').astype(float)\n",
    "\n",
    "df_bm_metrics = df_bm.groupby(\n",
    "    by=['atbat_batter', 'atbat_pitcher'],\n",
    "    as_index=False\n",
    ").agg({'game_id': 'count',\n",
    "       'hr_flag': np.mean})"
   ]
  },
  {
   "cell_type": "code",
   "execution_count": 73,
   "metadata": {},
   "outputs": [
    {
     "data": {
      "text/html": [
       "<div>\n",
       "<style scoped>\n",
       "    .dataframe tbody tr th:only-of-type {\n",
       "        vertical-align: middle;\n",
       "    }\n",
       "\n",
       "    .dataframe tbody tr th {\n",
       "        vertical-align: top;\n",
       "    }\n",
       "\n",
       "    .dataframe thead th {\n",
       "        text-align: right;\n",
       "    }\n",
       "</style>\n",
       "<table border=\"1\" class=\"dataframe\">\n",
       "  <thead>\n",
       "    <tr style=\"text-align: right;\">\n",
       "      <th></th>\n",
       "      <th>atbat_batter</th>\n",
       "      <th>atbat_pitcher</th>\n",
       "      <th>game_id</th>\n",
       "      <th>hr_flag</th>\n",
       "    </tr>\n",
       "  </thead>\n",
       "  <tbody>\n",
       "    <tr>\n",
       "      <th>18468</th>\n",
       "      <td>516782</td>\n",
       "      <td>571945</td>\n",
       "      <td>19</td>\n",
       "      <td>0.000000</td>\n",
       "    </tr>\n",
       "    <tr>\n",
       "      <th>54176</th>\n",
       "      <td>605137</td>\n",
       "      <td>571945</td>\n",
       "      <td>19</td>\n",
       "      <td>0.105263</td>\n",
       "    </tr>\n",
       "    <tr>\n",
       "      <th>67917</th>\n",
       "      <td>624428</td>\n",
       "      <td>571945</td>\n",
       "      <td>18</td>\n",
       "      <td>0.000000</td>\n",
       "    </tr>\n",
       "    <tr>\n",
       "      <th>7551</th>\n",
       "      <td>456715</td>\n",
       "      <td>500779</td>\n",
       "      <td>18</td>\n",
       "      <td>0.000000</td>\n",
       "    </tr>\n",
       "    <tr>\n",
       "      <th>29672</th>\n",
       "      <td>544725</td>\n",
       "      <td>641745</td>\n",
       "      <td>18</td>\n",
       "      <td>0.000000</td>\n",
       "    </tr>\n",
       "  </tbody>\n",
       "</table>\n",
       "</div>"
      ],
      "text/plain": [
       "      atbat_batter atbat_pitcher  game_id   hr_flag\n",
       "18468       516782        571945       19  0.000000\n",
       "54176       605137        571945       19  0.105263\n",
       "67917       624428        571945       18  0.000000\n",
       "7551        456715        500779       18  0.000000\n",
       "29672       544725        641745       18  0.000000"
      ]
     },
     "execution_count": 73,
     "metadata": {},
     "output_type": "execute_result"
    }
   ],
   "source": [
    "df_bm_metrics = df_bm_metrics.sort_values(by=['game_id'], ascending=False, inplace=False)\n",
    "df_bm_metrics.head()"
   ]
  },
  {
   "cell_type": "markdown",
   "metadata": {},
   "source": [
    "# Batter Performance Against Pitcher All-Time"
   ]
  },
  {
   "cell_type": "code",
   "execution_count": 80,
   "metadata": {},
   "outputs": [],
   "source": [
    "df_bm_alltime = df_bm_all.loc[df_bm_all['year'] != max(df_bm_all['year']), :]\n",
    "df_bm_alltime.loc[:, 'hr_flag'] = df_bm_alltime.atbat_event.str.replace(\" \", \"\").str.lower().str.contains('homerun').astype(float)\n",
    "\n",
    "df_bm_alltime_metrics = df_bm_alltime.groupby(\n",
    "    by=['atbat_batter', 'atbat_pitcher'],\n",
    "    as_index=False\n",
    ").agg({'game_id': 'count',\n",
    "       'hr_flag': np.mean})"
   ]
  },
  {
   "cell_type": "code",
   "execution_count": 84,
   "metadata": {},
   "outputs": [
    {
     "data": {
      "text/html": [
       "<div>\n",
       "<style scoped>\n",
       "    .dataframe tbody tr th:only-of-type {\n",
       "        vertical-align: middle;\n",
       "    }\n",
       "\n",
       "    .dataframe tbody tr th {\n",
       "        vertical-align: top;\n",
       "    }\n",
       "\n",
       "    .dataframe thead th {\n",
       "        text-align: right;\n",
       "    }\n",
       "</style>\n",
       "<table border=\"1\" class=\"dataframe\">\n",
       "  <thead>\n",
       "    <tr style=\"text-align: right;\">\n",
       "      <th></th>\n",
       "      <th>atbat_batter</th>\n",
       "      <th>atbat_pitcher</th>\n",
       "      <th>game_id</th>\n",
       "      <th>hr_flag</th>\n",
       "    </tr>\n",
       "  </thead>\n",
       "  <tbody>\n",
       "    <tr>\n",
       "      <th>176099</th>\n",
       "      <td>641355</td>\n",
       "      <td>554430</td>\n",
       "      <td>11</td>\n",
       "      <td>0.363636</td>\n",
       "    </tr>\n",
       "    <tr>\n",
       "      <th>107544</th>\n",
       "      <td>572233</td>\n",
       "      <td>477132</td>\n",
       "      <td>11</td>\n",
       "      <td>0.363636</td>\n",
       "    </tr>\n",
       "    <tr>\n",
       "      <th>53985</th>\n",
       "      <td>502517</td>\n",
       "      <td>543294</td>\n",
       "      <td>11</td>\n",
       "      <td>0.363636</td>\n",
       "    </tr>\n",
       "    <tr>\n",
       "      <th>1667</th>\n",
       "      <td>405395</td>\n",
       "      <td>605164</td>\n",
       "      <td>11</td>\n",
       "      <td>0.363636</td>\n",
       "    </tr>\n",
       "    <tr>\n",
       "      <th>164</th>\n",
       "      <td>134181</td>\n",
       "      <td>571760</td>\n",
       "      <td>12</td>\n",
       "      <td>0.333333</td>\n",
       "    </tr>\n",
       "  </tbody>\n",
       "</table>\n",
       "</div>"
      ],
      "text/plain": [
       "       atbat_batter atbat_pitcher  game_id   hr_flag\n",
       "176099       641355        554430       11  0.363636\n",
       "107544       572233        477132       11  0.363636\n",
       "53985        502517        543294       11  0.363636\n",
       "1667         405395        605164       11  0.363636\n",
       "164          134181        571760       12  0.333333"
      ]
     },
     "execution_count": 84,
     "metadata": {},
     "output_type": "execute_result"
    }
   ],
   "source": [
    "df_bm_all_metrics = df_bm_all_metrics.sort_values(by=['hr_flag'], ascending=False, inplace=False)\n",
    "df_bm_all_metrics.head()"
   ]
  },
  {
   "cell_type": "markdown",
   "metadata": {},
   "source": [
    "# Batter Performance Against Opponent Bullpen This Year"
   ]
  },
  {
   "cell_type": "code",
   "execution_count": null,
   "metadata": {},
   "outputs": [],
   "source": []
  },
  {
   "cell_type": "code",
   "execution_count": null,
   "metadata": {},
   "outputs": [],
   "source": []
  },
  {
   "cell_type": "code",
   "execution_count": null,
   "metadata": {},
   "outputs": [],
   "source": []
  },
  {
   "cell_type": "code",
   "execution_count": null,
   "metadata": {},
   "outputs": [],
   "source": []
  }
 ],
 "metadata": {
  "kernelspec": {
   "display_name": "Python 3",
   "language": "python",
   "name": "python3"
  },
  "language_info": {
   "codemirror_mode": {
    "name": "ipython",
    "version": 3
   },
   "file_extension": ".py",
   "mimetype": "text/x-python",
   "name": "python",
   "nbconvert_exporter": "python",
   "pygments_lexer": "ipython3",
   "version": "3.6.4"
  }
 },
 "nbformat": 4,
 "nbformat_minor": 2
}
