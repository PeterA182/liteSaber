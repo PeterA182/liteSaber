{
 "cells": [
  {
   "cell_type": "code",
   "execution_count": 2,
   "metadata": {},
   "outputs": [],
   "source": [
    "import os\n",
    "import sys\n",
    "import numpy as np\n",
    "import pandas as pd\n",
    "import datetime as dt\n",
    "pd.options.display.max_columns = None"
   ]
  },
  {
   "cell_type": "markdown",
   "metadata": {},
   "source": [
    "# Standardized Batting, Pitching, Boxscore, Innings, Starters"
   ]
  },
  {
   "cell_type": "code",
   "execution_count": 3,
   "metadata": {},
   "outputs": [
    {
     "data": {
      "text/plain": [
       "['batting.parquet',\n",
       " 'pitching.parquet',\n",
       " 'boxscore.parquet',\n",
       " 'innings.parquet',\n",
       " 'starters.parquet']"
      ]
     },
     "execution_count": 3,
     "metadata": {},
     "output_type": "execute_result"
    }
   ],
   "source": [
    "path = \"/Volumes/Transcend/010_gameday_normalized/year_2019month_08day_22/\"\n",
    "fnames = os.listdir(path)\n",
    "fnames"
   ]
  },
  {
   "cell_type": "code",
   "execution_count": 4,
   "metadata": {},
   "outputs": [],
   "source": [
    "innings = pd.read_parquet(path+'innings.parquet')\n",
    "try:\n",
    "    os.makedirs('/Users/peteraltamura/Desktop/standardized/')\n",
    "except:\n",
    "    pass\n",
    "innings.to_csv('/Users/peteraltamura/Desktop/standardized/innings.csv', index=False)"
   ]
  },
  {
   "cell_type": "markdown",
   "metadata": {},
   "source": [
    "# Batter Stats New"
   ]
  },
  {
   "cell_type": "code",
   "execution_count": 9,
   "metadata": {},
   "outputs": [],
   "source": [
    "path = \"/Volumes/Transcend/020_gameday_batter_saber/gid_2019_08_14_oakmlb_sfnmlb_1/\"\n"
   ]
  },
  {
   "cell_type": "code",
   "execution_count": 10,
   "metadata": {},
   "outputs": [
    {
     "data": {
      "text/html": [
       "<div>\n",
       "<style scoped>\n",
       "    .dataframe tbody tr th:only-of-type {\n",
       "        vertical-align: middle;\n",
       "    }\n",
       "\n",
       "    .dataframe tbody tr th {\n",
       "        vertical-align: top;\n",
       "    }\n",
       "\n",
       "    .dataframe thead th {\n",
       "        text-align: right;\n",
       "    }\n",
       "</style>\n",
       "<table border=\"1\" class=\"dataframe\">\n",
       "  <thead>\n",
       "    <tr style=\"text-align: right;\">\n",
       "      <th></th>\n",
       "      <th>gameId</th>\n",
       "      <th>gameDate</th>\n",
       "      <th>team</th>\n",
       "      <th>batterId</th>\n",
       "      <th>batterWalkPercentage_trail3</th>\n",
       "      <th>batterWalkPercentage_trail6</th>\n",
       "      <th>batterKPercentage_trail3</th>\n",
       "      <th>batterKPercentage_trail6</th>\n",
       "      <th>batterISO_trail3</th>\n",
       "      <th>batterISO_trail6</th>\n",
       "      <th>batterBABIP_trail3</th>\n",
       "      <th>batterBABIP_trail6</th>\n",
       "      <th>woba_trail3</th>\n",
       "      <th>woba_trail6</th>\n",
       "      <th>ab_trail3</th>\n",
       "      <th>ab_trail6</th>\n",
       "    </tr>\n",
       "  </thead>\n",
       "  <tbody>\n",
       "    <tr>\n",
       "      <th>47585</th>\n",
       "      <td>gid_2019_08_14_oakmlb_sfnmlb_1/</td>\n",
       "      <td>2019-08-14</td>\n",
       "      <td>sfn</td>\n",
       "      <td>474832</td>\n",
       "      <td>0.333333</td>\n",
       "      <td>0.222222</td>\n",
       "      <td>0.111111</td>\n",
       "      <td>0.166667</td>\n",
       "      <td>0.092</td>\n",
       "      <td>0.093667</td>\n",
       "      <td>0.250000</td>\n",
       "      <td>0.266667</td>\n",
       "      <td>0.320500</td>\n",
       "      <td>0.286909</td>\n",
       "      <td>9.0</td>\n",
       "      <td>18.0</td>\n",
       "    </tr>\n",
       "    <tr>\n",
       "      <th>47586</th>\n",
       "      <td>gid_2019_08_14_oakmlb_sfnmlb_1/</td>\n",
       "      <td>2019-08-14</td>\n",
       "      <td>sfn</td>\n",
       "      <td>573262</td>\n",
       "      <td>0.375000</td>\n",
       "      <td>0.263158</td>\n",
       "      <td>0.250000</td>\n",
       "      <td>0.210526</td>\n",
       "      <td>0.091</td>\n",
       "      <td>0.092500</td>\n",
       "      <td>0.142857</td>\n",
       "      <td>0.250000</td>\n",
       "      <td>0.246500</td>\n",
       "      <td>0.280080</td>\n",
       "      <td>8.0</td>\n",
       "      <td>19.0</td>\n",
       "    </tr>\n",
       "    <tr>\n",
       "      <th>47587</th>\n",
       "      <td>gid_2019_08_14_oakmlb_sfnmlb_1/</td>\n",
       "      <td>2019-08-14</td>\n",
       "      <td>sfn</td>\n",
       "      <td>446334</td>\n",
       "      <td>0.375000</td>\n",
       "      <td>0.352941</td>\n",
       "      <td>0.125000</td>\n",
       "      <td>0.117647</td>\n",
       "      <td>0.090</td>\n",
       "      <td>0.091500</td>\n",
       "      <td>0.250000</td>\n",
       "      <td>0.312500</td>\n",
       "      <td>0.320500</td>\n",
       "      <td>0.357500</td>\n",
       "      <td>8.0</td>\n",
       "      <td>17.0</td>\n",
       "    </tr>\n",
       "    <tr>\n",
       "      <th>47588</th>\n",
       "      <td>gid_2019_08_14_oakmlb_sfnmlb_1/</td>\n",
       "      <td>2019-08-14</td>\n",
       "      <td>sfn</td>\n",
       "      <td>519390</td>\n",
       "      <td>0.200000</td>\n",
       "      <td>0.263158</td>\n",
       "      <td>0.100000</td>\n",
       "      <td>0.105263</td>\n",
       "      <td>0.089</td>\n",
       "      <td>0.090500</td>\n",
       "      <td>0.500000</td>\n",
       "      <td>0.388889</td>\n",
       "      <td>0.447692</td>\n",
       "      <td>0.386640</td>\n",
       "      <td>10.0</td>\n",
       "      <td>19.0</td>\n",
       "    </tr>\n",
       "    <tr>\n",
       "      <th>47589</th>\n",
       "      <td>gid_2019_08_14_oakmlb_sfnmlb_1/</td>\n",
       "      <td>2019-08-14</td>\n",
       "      <td>sfn</td>\n",
       "      <td>571697</td>\n",
       "      <td>0.111111</td>\n",
       "      <td>0.235294</td>\n",
       "      <td>0.111111</td>\n",
       "      <td>0.176471</td>\n",
       "      <td>0.088</td>\n",
       "      <td>0.089500</td>\n",
       "      <td>0.625000</td>\n",
       "      <td>0.400000</td>\n",
       "      <td>0.513000</td>\n",
       "      <td>0.367636</td>\n",
       "      <td>9.0</td>\n",
       "      <td>17.0</td>\n",
       "    </tr>\n",
       "  </tbody>\n",
       "</table>\n",
       "</div>"
      ],
      "text/plain": [
       "                                gameId   gameDate team batterId  \\\n",
       "47585  gid_2019_08_14_oakmlb_sfnmlb_1/ 2019-08-14  sfn   474832   \n",
       "47586  gid_2019_08_14_oakmlb_sfnmlb_1/ 2019-08-14  sfn   573262   \n",
       "47587  gid_2019_08_14_oakmlb_sfnmlb_1/ 2019-08-14  sfn   446334   \n",
       "47588  gid_2019_08_14_oakmlb_sfnmlb_1/ 2019-08-14  sfn   519390   \n",
       "47589  gid_2019_08_14_oakmlb_sfnmlb_1/ 2019-08-14  sfn   571697   \n",
       "\n",
       "       batterWalkPercentage_trail3  batterWalkPercentage_trail6  \\\n",
       "47585                     0.333333                     0.222222   \n",
       "47586                     0.375000                     0.263158   \n",
       "47587                     0.375000                     0.352941   \n",
       "47588                     0.200000                     0.263158   \n",
       "47589                     0.111111                     0.235294   \n",
       "\n",
       "       batterKPercentage_trail3  batterKPercentage_trail6  batterISO_trail3  \\\n",
       "47585                  0.111111                  0.166667             0.092   \n",
       "47586                  0.250000                  0.210526             0.091   \n",
       "47587                  0.125000                  0.117647             0.090   \n",
       "47588                  0.100000                  0.105263             0.089   \n",
       "47589                  0.111111                  0.176471             0.088   \n",
       "\n",
       "       batterISO_trail6  batterBABIP_trail3  batterBABIP_trail6  woba_trail3  \\\n",
       "47585          0.093667            0.250000            0.266667     0.320500   \n",
       "47586          0.092500            0.142857            0.250000     0.246500   \n",
       "47587          0.091500            0.250000            0.312500     0.320500   \n",
       "47588          0.090500            0.500000            0.388889     0.447692   \n",
       "47589          0.089500            0.625000            0.400000     0.513000   \n",
       "\n",
       "       woba_trail6  ab_trail3  ab_trail6  \n",
       "47585     0.286909        9.0       18.0  \n",
       "47586     0.280080        8.0       19.0  \n",
       "47587     0.357500        8.0       17.0  \n",
       "47588     0.386640       10.0       19.0  \n",
       "47589     0.367636        9.0       17.0  "
      ]
     },
     "execution_count": 10,
     "metadata": {},
     "output_type": "execute_result"
    }
   ],
   "source": [
    "batting = pd.read_parquet(path+'batter_saber_team.parquet')\n",
    "batting.to_csv('/Users/peteraltamura/Desktop/gameday_pitcher_saber/batter_saber')"
   ]
  },
  {
   "cell_type": "code",
   "execution_count": null,
   "metadata": {},
   "outputs": [],
   "source": []
  },
  {
   "cell_type": "code",
   "execution_count": null,
   "metadata": {},
   "outputs": [],
   "source": []
  },
  {
   "cell_type": "code",
   "execution_count": null,
   "metadata": {},
   "outputs": [],
   "source": []
  }
 ],
 "metadata": {
  "kernelspec": {
   "display_name": "Python 3",
   "language": "python",
   "name": "python3"
  },
  "language_info": {
   "codemirror_mode": {
    "name": "ipython",
    "version": 3
   },
   "file_extension": ".py",
   "mimetype": "text/x-python",
   "name": "python",
   "nbconvert_exporter": "python",
   "pygments_lexer": "ipython3",
   "version": "3.6.4"
  }
 },
 "nbformat": 4,
 "nbformat_minor": 2
}
